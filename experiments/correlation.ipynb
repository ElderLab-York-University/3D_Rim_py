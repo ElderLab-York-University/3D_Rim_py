{
 "cells": [
  {
   "cell_type": "code",
   "execution_count": 26,
   "metadata": {
    "collapsed": true
   },
   "outputs": [],
   "source": [
    "import os\n",
    "import threading\n",
    "import itertools\n",
    "import random\n",
    "import cv2\n",
    "import numpy as np\n",
    "from tqdm import tqdm\n",
    "from matplotlib import pyplot as plt\n",
    "\n",
    "def generate_pairs(n, k):\n",
    "    if k > n*(n+1)//2:\n",
    "        print(\"k cannot be greater than n*(n+1)/2. Setting k to n*(n+1)/2.\")\n",
    "        k = n*(n+1)//2\n",
    "\n",
    "    pairs = set()\n",
    "    while len(pairs) < k:\n",
    "        x, y = sorted([random.randint(1, n), random.randint(1, n)])\n",
    "        pairs.add((x, y))\n",
    "\n",
    "    return list(pairs)\n",
    "def getSubDir(directory):\n",
    "    subdirectories = [d for d in os.listdir(directory) if os.path.isdir(os.path.join(directory, d))]\n",
    "    return subdirectories\n",
    "def getImageFiles(directory):\n",
    "    imageFiles = []\n",
    "    for root, dirs, files in os.walk(directory):\n",
    "        for file in files:\n",
    "            if file.endswith('.png'):\n",
    "                imageFiles.append(os.path.join(root, file))\n",
    "    return imageFiles\n",
    "\n",
    "def compareContours(image1,image2):\n",
    "    gray1 = cv2.cvtColor(image1, cv2.COLOR_BGR2GRAY)\n",
    "    gray2 = cv2.cvtColor(image2, cv2.COLOR_BGR2GRAY)\n",
    "\n",
    "    _, thresh1 = cv2.threshold(gray1, 1, 255, cv2.THRESH_BINARY)\n",
    "    _, thresh2 = cv2.threshold(gray2, 1, 255, cv2.THRESH_BINARY)\n",
    "\n",
    "    # 寻找轮廓\n",
    "    contours1, _ = cv2.findContours(thresh1, cv2.RETR_EXTERNAL, cv2.CHAIN_APPROX_SIMPLE)\n",
    "    contours2, _ = cv2.findContours(thresh2, cv2.RETR_EXTERNAL, cv2.CHAIN_APPROX_SIMPLE)\n",
    "    if not contours1 or not contours2:\n",
    "        return None\n",
    "    img1c = np.zeros_like(image1)\n",
    "    img2c = np.zeros_like(image2)\n",
    "    cv2.drawContours(img1c, contours1, -1, (0,255,0), 3)\n",
    "    cv2.drawContours(img2c, contours2, -1, (0,255,0), 3)\n",
    "\n",
    "    # 使用matchShapes函数比较轮廓\n",
    "    imgCorrel = calculate_correlation(cv2.cvtColor(img1c, cv2.COLOR_BGR2GRAY),cv2.cvtColor(img2c, cv2.COLOR_BGR2GRAY))\n",
    "\n",
    "    return imgCorrel\n",
    "\n",
    "def veifyContours(image1,image2):\n",
    "\n",
    "    gray1 = cv2.cvtColor(image1, cv2.COLOR_BGR2GRAY)\n",
    "    gray2 = cv2.cvtColor(image2, cv2.COLOR_BGR2GRAY)\n",
    "\n",
    "    _, thresh1 = cv2.threshold(gray1, 1, 255, cv2.THRESH_BINARY)\n",
    "    _, thresh2 = cv2.threshold(gray2, 1, 255, cv2.THRESH_BINARY)\n",
    "\n",
    "\n",
    "\n",
    "    # 寻找轮廓\n",
    "    contours1, _ = cv2.findContours(thresh1, cv2.RETR_EXTERNAL, cv2.CHAIN_APPROX_SIMPLE)\n",
    "    contours2, _ = cv2.findContours(thresh2, cv2.RETR_EXTERNAL, cv2.CHAIN_APPROX_SIMPLE)\n",
    "    print(len(contours1))\n",
    "    print(len(contours2))\n",
    "    contour1 = contours1[0]\n",
    "    contour2 = contours2[0]\n",
    "\n",
    "    if not contours1 or not contours2:\n",
    "        return None\n",
    "    if len(contours1)!=1 or len(contours2)!=1:\n",
    "        return None\n",
    "    img1c = np.zeros_like(image1)\n",
    "    img2c = np.zeros_like(image2)\n",
    "    # 使用matchShapes函数比较轮廓\n",
    "    similarity = cv2.matchShapes(contour1, contour2, cv2.CONTOURS_MATCH_I1, 0)\n",
    "    cv2.drawContours(img1c, contours1, -1, (0,255,0), 3)\n",
    "    cv2.drawContours(img2c, contours2, -1, (0,255,0), 3)\n",
    "    correlation = calculate_correlation(cv2.cvtColor(img1c, cv2.COLOR_BGR2GRAY),cv2.cvtColor(img2c, cv2.COLOR_BGR2GRAY))\n",
    "\n",
    "    return thresh1,thresh2,cv2.cvtColor(img1c, cv2.COLOR_BGR2RGB),cv2.cvtColor(img2c, cv2.COLOR_BGR2RGB),similarity,correlation\n",
    "\n",
    "def calculate_correlation(image1, image2):\n",
    "    # 将图像转换为浮点数并归一化\n",
    "    image1_norm = image1.astype(np.float32) / 255.0\n",
    "    image2_norm = image2.astype(np.float32) / 255.0\n",
    "\n",
    "    # 计算图像的平均值和标准差\n",
    "    mean1, std_dev1 = cv2.meanStdDev(image1_norm)\n",
    "    mean2, std_dev2 = cv2.meanStdDev(image2_norm)\n",
    "\n",
    "    # 检查除数是否为零或接近零\n",
    "    eps = 1e-8\n",
    "    if std_dev1 * std_dev2 < eps:\n",
    "        return None\n",
    "    else:\n",
    "        covariance = cv2.mean((image1_norm - mean1) * (image2_norm - mean2))[0]\n",
    "        correlation_coefficient = covariance / (std_dev1 * std_dev2)\n",
    "    return abs(correlation_coefficient.item())\n",
    "\n",
    "\n"
   ]
  },
  {
   "cell_type": "code",
   "execution_count": 27,
   "outputs": [
    {
     "name": "stdout",
     "output_type": "stream",
     "text": [
      "['02691156', '02747177', '02773838', '02801938', '02808440', '02818832', '02828884', '02843684', '02871439', '02876657', '02880940', '02924116', '02933112', '02942699', '02946921', '02954340', '02958343', '02992529', '03001627', '03046257', '03085013', '03207941', '03211117', '03261776', '03325088', '03337140', '03467517', '03513137', '03593526', '03624134', '03636649', '03642806', '03691459', '03710193', '03759954', '03761084', '03790512', '03797390', '03928116', '03938244', '03948459', '03991062', '04004475', '04074963', '04090263', '04099429', '04225987', '04256520', '04330267', '04379243', '04401088', '04460130', '04468005', '04530566', '04554684']\n"
     ]
    }
   ],
   "source": [
    "rootDir = \"../ShapeNetCore_Depth\"\n",
    "dirs = getSubDir(rootDir)\n",
    "print(dirs)"
   ],
   "metadata": {
    "collapsed": false
   }
  },
  {
   "cell_type": "code",
   "execution_count": null,
   "outputs": [
    {
     "name": "stdout",
     "output_type": "stream",
     "text": [
      "filecounter:24270\n",
      "4532\n"
     ]
    },
    {
     "name": "stderr",
     "output_type": "stream",
     "text": [
      "100%|██████████| 2500/2500 [01:37<00:00, 25.77it/s]\n"
     ]
    },
    {
     "name": "stdout",
     "output_type": "stream",
     "text": [
      "2500\n",
      "2500\n",
      "filecounter:2058\n",
      "1864\n"
     ]
    },
    {
     "name": "stderr",
     "output_type": "stream",
     "text": [
      "100%|██████████| 2500/2500 [01:38<00:00, 25.49it/s]\n"
     ]
    },
    {
     "name": "stdout",
     "output_type": "stream",
     "text": [
      "2500\n",
      "2500\n",
      "filecounter:492\n",
      "491\n"
     ]
    },
    {
     "name": "stderr",
     "output_type": "stream",
     "text": [
      "100%|██████████| 2500/2500 [01:39<00:00, 25.08it/s]\n"
     ]
    },
    {
     "name": "stdout",
     "output_type": "stream",
     "text": [
      "2500\n",
      "2500\n",
      "filecounter:672\n",
      "669\n"
     ]
    },
    {
     "name": "stderr",
     "output_type": "stream",
     "text": [
      "100%|██████████| 2500/2500 [01:41<00:00, 24.66it/s]\n"
     ]
    },
    {
     "name": "stdout",
     "output_type": "stream",
     "text": [
      "2500\n",
      "2500\n",
      "filecounter:5136\n",
      "3193\n"
     ]
    },
    {
     "name": "stderr",
     "output_type": "stream",
     "text": [
      "100%|██████████| 2500/2500 [01:41<00:00, 24.55it/s]\n"
     ]
    },
    {
     "name": "stdout",
     "output_type": "stream",
     "text": [
      "2500\n",
      "2500\n",
      "filecounter:1398\n",
      "1353\n"
     ]
    },
    {
     "name": "stderr",
     "output_type": "stream",
     "text": [
      "100%|██████████| 2500/2500 [01:42<00:00, 24.40it/s]\n"
     ]
    },
    {
     "name": "stdout",
     "output_type": "stream",
     "text": [
      "2500\n",
      "2500\n",
      "filecounter:10878\n",
      "4002\n"
     ]
    },
    {
     "name": "stderr",
     "output_type": "stream",
     "text": [
      "100%|██████████| 2500/2500 [01:54<00:00, 21.81it/s]\n"
     ]
    },
    {
     "name": "stdout",
     "output_type": "stream",
     "text": [
      "2500\n",
      "2500\n",
      "filecounter:438\n",
      "437\n"
     ]
    },
    {
     "name": "stderr",
     "output_type": "stream",
     "text": [
      "100%|██████████| 2500/2500 [01:47<00:00, 23.25it/s]\n"
     ]
    },
    {
     "name": "stdout",
     "output_type": "stream",
     "text": [
      "2500\n",
      "2500\n",
      "filecounter:2712\n",
      "2278\n"
     ]
    },
    {
     "name": "stderr",
     "output_type": "stream",
     "text": [
      "100%|██████████| 2500/2500 [01:45<00:00, 23.76it/s]\n"
     ]
    },
    {
     "name": "stdout",
     "output_type": "stream",
     "text": [
      "2500\n",
      "2500\n",
      "filecounter:2988\n",
      "2414\n"
     ]
    },
    {
     "name": "stderr",
     "output_type": "stream",
     "text": [
      "100%|██████████| 2500/2500 [01:42<00:00, 24.39it/s]\n"
     ]
    },
    {
     "name": "stdout",
     "output_type": "stream",
     "text": [
      "2500\n",
      "2500\n",
      "filecounter:1116\n",
      "1102\n"
     ]
    },
    {
     "name": "stderr",
     "output_type": "stream",
     "text": [
      "100%|██████████| 2500/2500 [01:26<00:00, 28.86it/s]\n"
     ]
    },
    {
     "name": "stdout",
     "output_type": "stream",
     "text": [
      "2500\n",
      "2500\n",
      "filecounter:5634\n",
      "3293\n"
     ]
    },
    {
     "name": "stderr",
     "output_type": "stream",
     "text": [
      "100%|██████████| 2500/2500 [01:35<00:00, 26.10it/s]\n"
     ]
    },
    {
     "name": "stdout",
     "output_type": "stream",
     "text": [
      "2500\n",
      "2500\n",
      "filecounter:9420\n",
      "3858\n"
     ]
    },
    {
     "name": "stderr",
     "output_type": "stream",
     "text": [
      "100%|██████████| 2500/2500 [01:33<00:00, 26.68it/s]\n"
     ]
    },
    {
     "name": "stdout",
     "output_type": "stream",
     "text": [
      "2500\n",
      "2500\n",
      "filecounter:678\n",
      "676\n"
     ]
    },
    {
     "name": "stderr",
     "output_type": "stream",
     "text": [
      "100%|██████████| 2500/2500 [01:29<00:00, 27.94it/s]\n"
     ]
    },
    {
     "name": "stdout",
     "output_type": "stream",
     "text": [
      "2500\n",
      "2500\n",
      "filecounter:648\n",
      "646\n"
     ]
    },
    {
     "name": "stderr",
     "output_type": "stream",
     "text": [
      "100%|██████████| 2500/2500 [01:37<00:00, 25.73it/s]\n"
     ]
    },
    {
     "name": "stdout",
     "output_type": "stream",
     "text": [
      "2500\n",
      "2500\n",
      "filecounter:336\n",
      "335\n"
     ]
    },
    {
     "name": "stderr",
     "output_type": "stream",
     "text": [
      "100%|██████████| 2500/2500 [01:38<00:00, 25.27it/s]\n"
     ]
    },
    {
     "name": "stdout",
     "output_type": "stream",
     "text": [
      "2500\n",
      "2500\n",
      "filecounter:21000\n",
      "4439\n"
     ]
    },
    {
     "name": "stderr",
     "output_type": "stream",
     "text": [
      "100%|██████████| 2500/2500 [01:49<00:00, 22.75it/s]\n"
     ]
    },
    {
     "name": "stdout",
     "output_type": "stream",
     "text": [
      "2500\n",
      "2500\n",
      "filecounter:4986\n",
      "3148\n"
     ]
    },
    {
     "name": "stderr",
     "output_type": "stream",
     "text": [
      "100%|██████████| 2500/2500 [01:42<00:00, 24.33it/s]\n"
     ]
    },
    {
     "name": "stdout",
     "output_type": "stream",
     "text": [
      "2500\n",
      "2500\n",
      "filecounter:40662\n",
      "4675\n"
     ]
    },
    {
     "name": "stderr",
     "output_type": "stream",
     "text": [
      "100%|██████████| 2500/2500 [01:54<00:00, 21.88it/s]\n"
     ]
    },
    {
     "name": "stdout",
     "output_type": "stream",
     "text": [
      "2500\n",
      "2500\n",
      "filecounter:3906\n",
      "2785\n"
     ]
    },
    {
     "name": "stderr",
     "output_type": "stream",
     "text": [
      "100%|██████████| 2500/2500 [01:40<00:00, 24.77it/s]\n"
     ]
    },
    {
     "name": "stdout",
     "output_type": "stream",
     "text": [
      "2500\n",
      "2500\n",
      "filecounter:390\n",
      "389\n"
     ]
    },
    {
     "name": "stderr",
     "output_type": "stream",
     "text": [
      " 11%|█▏        | 285/2500 [00:09<01:16, 28.95it/s]"
     ]
    }
   ],
   "source": [
    "for subDir in dirs:\n",
    "    imageFiles = getImageFiles(rootDir+\"/\"+subDir)\n",
    "    size = len(imageFiles)\n",
    "    sample = 2500\n",
    "    contours = []\n",
    "    correlations = []\n",
    "    print(\"filecounter:\"+str(len(imageFiles)))\n",
    "    imageidxlist = generate_pairs(size-1,sample)\n",
    "    imageDic = {}\n",
    "    for pair in imageidxlist:\n",
    "        x,y = pair\n",
    "        if x not in imageDic:\n",
    "            ximg = cv2.imread(imageFiles[x])\n",
    "            imageDic[x]=ximg\n",
    "        if y not in imageDic:\n",
    "            yimg = cv2.imread(imageFiles[y])\n",
    "            imageDic[y]=yimg\n",
    "    print(len(imageDic))\n",
    "    for pair in tqdm(imageidxlist):\n",
    "        idx1,idx2 = pair[0],pair[1]\n",
    "        c1 = compareContours(imageDic[idx1],imageDic[idx2])\n",
    "        c2 = calculate_correlation(cv2.cvtColor(imageDic[idx1], cv2.COLOR_BGR2GRAY),cv2.cvtColor(imageDic[idx2], cv2.COLOR_BGR2GRAY))\n",
    "        if c1 is not None and c2 is not None:\n",
    "            contours.append(c1)\n",
    "            correlations.append(c2)\n",
    "    print(len(correlations))\n",
    "    print(len(contours))\n",
    "    x = np.asarray(contours)\n",
    "    y = np.asarray(correlations)\n",
    "    plt.figure()\n",
    "    plt.hist2d(x, y, bins=100,cmin = 1)\n",
    "    plt.xlabel('contours pearson correlation coefficient')\n",
    "    plt.ylabel('depthImage pearson correlation coefficient')\n",
    "    plt.title('hist2D Plot of contours and depthImage correlation')\n",
    "    plt.savefig('hist2d'+subDir+\"s2500.png\",dpi=300)"
   ],
   "metadata": {
    "collapsed": false,
    "pycharm": {
     "is_executing": true
    }
   }
  },
  {
   "cell_type": "code",
   "execution_count": 8,
   "outputs": [
    {
     "name": "stdout",
     "output_type": "stream",
     "text": [
      "filecounter:314694\n",
      "4000\n"
     ]
    }
   ],
   "source": [
    "dir = \"../ShapeNetCore_Depth\"\n",
    "imageFiles = getImageFiles(dir)\n",
    "\n",
    "size = len(imageFiles)\n",
    "sample = 4000\n",
    "print(\"filecounter:\"+str(len(imageFiles)))\n",
    "imageidxlist = generate_pairs(size,sample)\n",
    "print(len(imageidxlist))\n",
    "\n",
    "\n",
    "\n"
   ],
   "metadata": {
    "collapsed": false
   }
  },
  {
   "cell_type": "code",
   "execution_count": 9,
   "outputs": [
    {
     "name": "stdout",
     "output_type": "stream",
     "text": [
      "7910\n"
     ]
    }
   ],
   "source": [
    "imageDic = {}\n",
    "for pair in imageidxlist:\n",
    "    x,y = pair\n",
    "    if x not in imageDic:\n",
    "        ximg = cv2.imread(imageFiles[x])\n",
    "        imageDic[x]=ximg\n",
    "    if y not in imageDic:\n",
    "        yimg = cv2.imread(imageFiles[y])\n",
    "        imageDic[y]=yimg\n",
    "\n",
    "print(len(imageDic))"
   ],
   "metadata": {
    "collapsed": false
   }
  },
  {
   "cell_type": "code",
   "execution_count": 10,
   "outputs": [
    {
     "name": "stderr",
     "output_type": "stream",
     "text": [
      "100%|██████████| 4000/4000 [03:14<00:00, 20.61it/s]\n"
     ]
    },
    {
     "name": "stdout",
     "output_type": "stream",
     "text": [
      "4000\n",
      "4000\n"
     ]
    }
   ],
   "source": [
    "for pair in tqdm(imageidxlist):\n",
    "    idx1,idx2 = pair[0],pair[1]\n",
    "    c1 = compareContours(imageDic[idx1],imageDic[idx2])\n",
    "    c2 = calculate_correlation(cv2.cvtColor(imageDic[idx1], cv2.COLOR_BGR2GRAY),cv2.cvtColor(imageDic[idx2], cv2.COLOR_BGR2GRAY))\n",
    "\n",
    "\n",
    "    if c1 is not None and c2 is not None:\n",
    "        contours.append(c1)\n",
    "        correlations.append(c2)\n",
    "print(len(correlations))\n",
    "print(len(contours))\n",
    "\n",
    "\n"
   ],
   "metadata": {
    "collapsed": false
   }
  },
  {
   "cell_type": "code",
   "execution_count": 157,
   "outputs": [
    {
     "name": "stdout",
     "output_type": "stream",
     "text": [
      "<class 'NoneType'>\n"
     ]
    },
    {
     "ename": "TypeError",
     "evalue": "object of type 'NoneType' has no len()",
     "output_type": "error",
     "traceback": [
      "\u001B[1;31m---------------------------------------------------------------------------\u001B[0m",
      "\u001B[1;31mTypeError\u001B[0m                                 Traceback (most recent call last)",
      "Cell \u001B[1;32mIn[157], line 6\u001B[0m\n\u001B[0;32m      4\u001B[0m c2 \u001B[38;5;241m=\u001B[39m calculate_correlation(cv2\u001B[38;5;241m.\u001B[39mcvtColor(images[idx1], cv2\u001B[38;5;241m.\u001B[39mCOLOR_BGR2GRAY),cv2\u001B[38;5;241m.\u001B[39mcvtColor(images[idx2], cv2\u001B[38;5;241m.\u001B[39mCOLOR_BGR2GRAY))\n\u001B[0;32m      5\u001B[0m \u001B[38;5;28mprint\u001B[39m(\u001B[38;5;28mtype\u001B[39m(c1))\n\u001B[1;32m----> 6\u001B[0m \u001B[38;5;28mprint\u001B[39m(\u001B[38;5;28;43mlen\u001B[39;49m\u001B[43m(\u001B[49m\u001B[43mc1\u001B[49m\u001B[43m)\u001B[49m)\n\u001B[0;32m      7\u001B[0m \u001B[38;5;28mprint\u001B[39m(c1\u001B[38;5;241m.\u001B[39mshape)\n\u001B[0;32m      8\u001B[0m \u001B[38;5;28mlist\u001B[39m \u001B[38;5;241m=\u001B[39m []\n",
      "\u001B[1;31mTypeError\u001B[0m: object of type 'NoneType' has no len()"
     ]
    }
   ],
   "source": [
    "random_pair = random.choice(random_combinations)\n",
    "idx1,idx2 = random_pair[0],random_pair[1]\n",
    "c1 = compareContours(images[idx1],images[idx2])\n",
    "c2 = calculate_correlation(cv2.cvtColor(images[idx1], cv2.COLOR_BGR2GRAY),cv2.cvtColor(images[idx2], cv2.COLOR_BGR2GRAY))\n",
    "print(type(c1))\n",
    "print(len(c1))\n",
    "print(c1.shape)\n",
    "list = []\n",
    "list.append(c1)\n",
    "print(len(list))\n",
    "print(type(c2))\n",
    "print(len(c2))\n",
    "print(c2.shape)\n"
   ],
   "metadata": {
    "collapsed": false
   }
  },
  {
   "cell_type": "code",
   "execution_count": 11,
   "outputs": [
    {
     "data": {
      "text/plain": "<Figure size 640x480 with 1 Axes>",
      "image/png": "[encoded data removed]"
     },
     "metadata": {},
     "output_type": "display_data"
    }
   ],
   "source": [
    "x = np.asarray(contours)\n",
    "y = np.asarray(correlations)\n",
    "plt.hist2d(x, y, bins=100,cmin = 1)\n",
    "plt.xlabel('contours pearson correlation coefficient')\n",
    "plt.ylabel('depthImage pearson correlation coefficient')\n",
    "plt.title('hist2D Plot of contours and depthImage correlation')\n",
    "plt.show()"
   ],
   "metadata": {
    "collapsed": false
   }
  },
  {
   "cell_type": "code",
   "execution_count": 130,
   "outputs": [
    {
     "name": "stdout",
     "output_type": "stream",
     "text": [
      "2\n",
      "1\n"
     ]
    },
    {
     "ename": "TypeError",
     "evalue": "cannot unpack non-iterable NoneType object",
     "output_type": "error",
     "traceback": [
      "\u001B[1;31m---------------------------------------------------------------------------\u001B[0m",
      "\u001B[1;31mTypeError\u001B[0m                                 Traceback (most recent call last)",
      "Cell \u001B[1;32mIn[130], line 3\u001B[0m\n\u001B[0;32m      1\u001B[0m random_pair \u001B[38;5;241m=\u001B[39m random\u001B[38;5;241m.\u001B[39mchoice(random_combinations)\n\u001B[0;32m      2\u001B[0m idx1,idx2 \u001B[38;5;241m=\u001B[39m random_pair[\u001B[38;5;241m0\u001B[39m],random_pair[\u001B[38;5;241m1\u001B[39m]\n\u001B[1;32m----> 3\u001B[0m g1,g2,img1,img2,value,correlation \u001B[38;5;241m=\u001B[39m veifyContours(images[idx1],images[idx2])\n\u001B[0;32m      4\u001B[0m plt\u001B[38;5;241m.\u001B[39mfigure(figsize\u001B[38;5;241m=\u001B[39m(\u001B[38;5;241m20\u001B[39m,\u001B[38;5;241m10\u001B[39m))\n\u001B[0;32m      5\u001B[0m plt\u001B[38;5;241m.\u001B[39msubplot(\u001B[38;5;241m2\u001B[39m, \u001B[38;5;241m4\u001B[39m, \u001B[38;5;241m1\u001B[39m)\n",
      "\u001B[1;31mTypeError\u001B[0m: cannot unpack non-iterable NoneType object"
     ]
    }
   ],
   "source": [
    "random_pair = random.choice(random_combinations)\n",
    "idx1,idx2 = random_pair[0],random_pair[1]\n",
    "g1,g2,img1,img2,value,correlation = veifyContours(images[idx1],images[idx2])\n",
    "plt.figure(figsize=(20,10))\n",
    "plt.subplot(2, 4, 1)\n",
    "plt.imshow(img1)\n",
    "plt.subplot(2, 4, 2)\n",
    "plt.imshow(img2)\n",
    "plt.subplot(2, 4, 3)\n",
    "plt.imshow(images[idx1])\n",
    "plt.subplot(2, 4, 4)\n",
    "plt.imshow(images[idx2])\n",
    "plt.subplot(2, 4, 5)\n",
    "plt.imshow(g1)\n",
    "plt.subplot(2, 4, 6)\n",
    "plt.imshow(g2)\n",
    "print(value)\n",
    "print(correlation)"
   ],
   "metadata": {
    "collapsed": false
   }
  }
 ],
 "metadata": {
  "kernelspec": {
   "display_name": "Python 3",
   "language": "python",
   "name": "python3"
  },
  "language_info": {
   "codemirror_mode": {
    "name": "ipython",
    "version": 2
   },
   "file_extension": ".py",
   "mimetype": "text/x-python",
   "name": "python",
   "nbconvert_exporter": "python",
   "pygments_lexer": "ipython2",
   "version": "2.7.6"
  }
 },
 "nbformat": 4,
 "nbformat_minor": 0
}
