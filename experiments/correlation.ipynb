{
 "cells": [
  {
   "cell_type": "code",
   "execution_count": 161,
   "metadata": {
    "collapsed": true
   },
   "outputs": [],
   "source": [
    "import os\n",
    "import threading\n",
    "import itertools\n",
    "import random\n",
    "import cv2\n",
    "import numpy as np\n",
    "from tqdm import tqdm\n",
    "from matplotlib import pyplot as plt\n",
    "\n",
    "contours = []\n",
    "correlations = []\n",
    "\n",
    "def getImageFiles(directory):\n",
    "    imageFiles = []\n",
    "    for root, dirs, files in os.walk(directory):\n",
    "        for file in files:\n",
    "            if file.endswith('.png'):\n",
    "                imageFiles.append(os.path.join(root, file))\n",
    "    return imageFiles\n",
    "\n",
    "def compareContours(image1,image2):\n",
    "    gray1 = cv2.cvtColor(image1, cv2.COLOR_BGR2GRAY)\n",
    "    gray2 = cv2.cvtColor(image2, cv2.COLOR_BGR2GRAY)\n",
    "\n",
    "    _, thresh1 = cv2.threshold(gray1, 1, 255, cv2.THRESH_BINARY)\n",
    "    _, thresh2 = cv2.threshold(gray2, 1, 255, cv2.THRESH_BINARY)\n",
    "\n",
    "    # 寻找轮廓\n",
    "    contours1, _ = cv2.findContours(thresh1, cv2.RETR_EXTERNAL, cv2.CHAIN_APPROX_SIMPLE)\n",
    "    contours2, _ = cv2.findContours(thresh2, cv2.RETR_EXTERNAL, cv2.CHAIN_APPROX_SIMPLE)\n",
    "    if not contours1 or not contours2:\n",
    "        return None\n",
    "    img1c = np.zeros_like(image1)\n",
    "    img2c = np.zeros_like(image2)\n",
    "    cv2.drawContours(img1c, contours1, -1, (0,255,0), 3)\n",
    "    cv2.drawContours(img2c, contours2, -1, (0,255,0), 3)\n",
    "\n",
    "    # 使用matchShapes函数比较轮廓\n",
    "    imgCorrel = calculate_correlation(cv2.cvtColor(img1c, cv2.COLOR_BGR2GRAY),cv2.cvtColor(img2c, cv2.COLOR_BGR2GRAY))\n",
    "\n",
    "    return imgCorrel\n",
    "\n",
    "def veifyContours(image1,image2):\n",
    "\n",
    "    gray1 = cv2.cvtColor(image1, cv2.COLOR_BGR2GRAY)\n",
    "    gray2 = cv2.cvtColor(image2, cv2.COLOR_BGR2GRAY)\n",
    "\n",
    "    _, thresh1 = cv2.threshold(gray1, 1, 255, cv2.THRESH_BINARY)\n",
    "    _, thresh2 = cv2.threshold(gray2, 1, 255, cv2.THRESH_BINARY)\n",
    "\n",
    "\n",
    "\n",
    "    # 寻找轮廓\n",
    "    contours1, _ = cv2.findContours(thresh1, cv2.RETR_EXTERNAL, cv2.CHAIN_APPROX_SIMPLE)\n",
    "    contours2, _ = cv2.findContours(thresh2, cv2.RETR_EXTERNAL, cv2.CHAIN_APPROX_SIMPLE)\n",
    "    print(len(contours1))\n",
    "    print(len(contours2))\n",
    "    contour1 = contours1[0]\n",
    "    contour2 = contours2[0]\n",
    "\n",
    "    if not contours1 or not contours2:\n",
    "        return None\n",
    "    if len(contours1)!=1 or len(contours2)!=1:\n",
    "        return None\n",
    "    img1c = np.zeros_like(image1)\n",
    "    img2c = np.zeros_like(image2)\n",
    "    # 使用matchShapes函数比较轮廓\n",
    "    similarity = cv2.matchShapes(contour1, contour2, cv2.CONTOURS_MATCH_I1, 0)\n",
    "    cv2.drawContours(img1c, contours1, -1, (0,255,0), 3)\n",
    "    cv2.drawContours(img2c, contours2, -1, (0,255,0), 3)\n",
    "    correlation = calculate_correlation(cv2.cvtColor(img1c, cv2.COLOR_BGR2GRAY),cv2.cvtColor(img2c, cv2.COLOR_BGR2GRAY))\n",
    "\n",
    "    return thresh1,thresh2,cv2.cvtColor(img1c, cv2.COLOR_BGR2RGB),cv2.cvtColor(img2c, cv2.COLOR_BGR2RGB),similarity,correlation\n",
    "\n",
    "def calculate_correlation(image1, image2):\n",
    "    # 将图像转换为浮点数并归一化\n",
    "    image1_norm = image1.astype(np.float32) / 255.0\n",
    "    image2_norm = image2.astype(np.float32) / 255.0\n",
    "\n",
    "    # 计算图像的平均值和标准差\n",
    "    mean1, std_dev1 = cv2.meanStdDev(image1_norm)\n",
    "    mean2, std_dev2 = cv2.meanStdDev(image2_norm)\n",
    "\n",
    "    # 检查除数是否为零或接近零\n",
    "    eps = 1e-8\n",
    "    if std_dev1 * std_dev2 < eps:\n",
    "        return None\n",
    "    else:\n",
    "        covariance = cv2.mean((image1_norm - mean1) * (image2_norm - mean2))[0]\n",
    "        correlation_coefficient = covariance / (std_dev1 * std_dev2)\n",
    "    return abs(correlation_coefficient.item())\n",
    "\n",
    "\n"
   ]
  },
  {
   "cell_type": "code",
   "execution_count": 2,
   "outputs": [
    {
     "name": "stdout",
     "output_type": "stream",
     "text": [
      "filecounter:24270\n"
     ]
    }
   ],
   "source": [
    "dir = \"../ShapeNetCore_Depth\"\n",
    "imageFiles = getImageFiles(dir)\n",
    "\n",
    "images = []\n",
    "print(\"filecounter:\"+str(len(imageFiles)))\n",
    "for imageFile in imageFiles:\n",
    "    images.append(cv2.imread(imageFile))"
   ],
   "metadata": {
    "collapsed": false
   }
  },
  {
   "cell_type": "code",
   "execution_count": 8,
   "outputs": [
    {
     "name": "stdout",
     "output_type": "stream",
     "text": [
      "(589032900, 2)\n",
      "24270\n",
      "start20000\n"
     ]
    }
   ],
   "source": [
    "k = 20000\n",
    "grid1, grid2 = np.meshgrid(np.linspace(0,len(images),len(images)).astype(int), np.linspace(0,len(images),len(images)).astype(int))\n",
    "combinations = np.vstack([grid1.ravel(), grid2.ravel()]).T\n",
    "print(combinations.shape)\n",
    "indices = np.arange(combinations.shape[0])\n",
    "\n",
    "print(len(images))\n",
    "# 在索引上进行随机采样\n",
    "random_indices = np.random.choice(indices, size=k, replace=False)\n",
    "\n",
    "# 使用这些索引来获取组合\n",
    "random_combinations = combinations[random_indices]\n",
    "print(\"start\"+str(len(random_combinations)))"
   ],
   "metadata": {
    "collapsed": false
   }
  },
  {
   "cell_type": "code",
   "execution_count": 163,
   "outputs": [
    {
     "name": "stderr",
     "output_type": "stream",
     "text": [
      "100%|██████████| 20000/20000 [00:54<00:00, 368.12it/s]"
     ]
    },
    {
     "name": "stdout",
     "output_type": "stream",
     "text": [
      "12151\n",
      "12151\n"
     ]
    },
    {
     "name": "stderr",
     "output_type": "stream",
     "text": [
      "\n"
     ]
    }
   ],
   "source": [
    "for pair in tqdm(random_combinations):\n",
    "    idx1,idx2 = pair[0],pair[1]\n",
    "    c1 = compareContours(images[idx1],images[idx2])\n",
    "    c2 = calculate_correlation(cv2.cvtColor(images[idx1], cv2.COLOR_BGR2GRAY),cv2.cvtColor(images[idx2], cv2.COLOR_BGR2GRAY))\n",
    "\n",
    "\n",
    "    if c1 is not None and c2 is not None:\n",
    "        contours.append(c1)\n",
    "        correlations.append(c2)\n",
    "print(len(correlations))\n",
    "print(len(contours))\n",
    "\n",
    "\n"
   ],
   "metadata": {
    "collapsed": false
   }
  },
  {
   "cell_type": "code",
   "execution_count": 157,
   "outputs": [
    {
     "name": "stdout",
     "output_type": "stream",
     "text": [
      "<class 'NoneType'>\n"
     ]
    },
    {
     "ename": "TypeError",
     "evalue": "object of type 'NoneType' has no len()",
     "output_type": "error",
     "traceback": [
      "\u001B[1;31m---------------------------------------------------------------------------\u001B[0m",
      "\u001B[1;31mTypeError\u001B[0m                                 Traceback (most recent call last)",
      "Cell \u001B[1;32mIn[157], line 6\u001B[0m\n\u001B[0;32m      4\u001B[0m c2 \u001B[38;5;241m=\u001B[39m calculate_correlation(cv2\u001B[38;5;241m.\u001B[39mcvtColor(images[idx1], cv2\u001B[38;5;241m.\u001B[39mCOLOR_BGR2GRAY),cv2\u001B[38;5;241m.\u001B[39mcvtColor(images[idx2], cv2\u001B[38;5;241m.\u001B[39mCOLOR_BGR2GRAY))\n\u001B[0;32m      5\u001B[0m \u001B[38;5;28mprint\u001B[39m(\u001B[38;5;28mtype\u001B[39m(c1))\n\u001B[1;32m----> 6\u001B[0m \u001B[38;5;28mprint\u001B[39m(\u001B[38;5;28;43mlen\u001B[39;49m\u001B[43m(\u001B[49m\u001B[43mc1\u001B[49m\u001B[43m)\u001B[49m)\n\u001B[0;32m      7\u001B[0m \u001B[38;5;28mprint\u001B[39m(c1\u001B[38;5;241m.\u001B[39mshape)\n\u001B[0;32m      8\u001B[0m \u001B[38;5;28mlist\u001B[39m \u001B[38;5;241m=\u001B[39m []\n",
      "\u001B[1;31mTypeError\u001B[0m: object of type 'NoneType' has no len()"
     ]
    }
   ],
   "source": [
    "random_pair = random.choice(random_combinations)\n",
    "idx1,idx2 = random_pair[0],random_pair[1]\n",
    "c1 = compareContours(images[idx1],images[idx2])\n",
    "c2 = calculate_correlation(cv2.cvtColor(images[idx1], cv2.COLOR_BGR2GRAY),cv2.cvtColor(images[idx2], cv2.COLOR_BGR2GRAY))\n",
    "print(type(c1))\n",
    "print(len(c1))\n",
    "print(c1.shape)\n",
    "list = []\n",
    "list.append(c1)\n",
    "print(len(list))\n",
    "print(type(c2))\n",
    "print(len(c2))\n",
    "print(c2.shape)\n"
   ],
   "metadata": {
    "collapsed": false
   }
  },
  {
   "cell_type": "code",
   "execution_count": 170,
   "outputs": [
    {
     "data": {
      "text/plain": "<Figure size 640x480 with 1 Axes>",
      "image/png": "[encoded data removed]"
     },
     "metadata": {},
     "output_type": "display_data"
    }
   ],
   "source": [
    "x = np.asarray(contours)\n",
    "y = np.asarray(correlations)\n",
    "plt.hist2d(x, y, bins=100,cmin = 1)\n",
    "plt.xlabel('contours pearson correlation coefficient')\n",
    "plt.ylabel('depthImage pearson correlation coefficient')\n",
    "plt.title('Scatter Plot of contours and depthImage correlation')\n",
    "plt.show()"
   ],
   "metadata": {
    "collapsed": false
   }
  },
  {
   "cell_type": "code",
   "execution_count": 130,
   "outputs": [
    {
     "name": "stdout",
     "output_type": "stream",
     "text": [
      "2\n",
      "1\n"
     ]
    },
    {
     "ename": "TypeError",
     "evalue": "cannot unpack non-iterable NoneType object",
     "output_type": "error",
     "traceback": [
      "\u001B[1;31m---------------------------------------------------------------------------\u001B[0m",
      "\u001B[1;31mTypeError\u001B[0m                                 Traceback (most recent call last)",
      "Cell \u001B[1;32mIn[130], line 3\u001B[0m\n\u001B[0;32m      1\u001B[0m random_pair \u001B[38;5;241m=\u001B[39m random\u001B[38;5;241m.\u001B[39mchoice(random_combinations)\n\u001B[0;32m      2\u001B[0m idx1,idx2 \u001B[38;5;241m=\u001B[39m random_pair[\u001B[38;5;241m0\u001B[39m],random_pair[\u001B[38;5;241m1\u001B[39m]\n\u001B[1;32m----> 3\u001B[0m g1,g2,img1,img2,value,correlation \u001B[38;5;241m=\u001B[39m veifyContours(images[idx1],images[idx2])\n\u001B[0;32m      4\u001B[0m plt\u001B[38;5;241m.\u001B[39mfigure(figsize\u001B[38;5;241m=\u001B[39m(\u001B[38;5;241m20\u001B[39m,\u001B[38;5;241m10\u001B[39m))\n\u001B[0;32m      5\u001B[0m plt\u001B[38;5;241m.\u001B[39msubplot(\u001B[38;5;241m2\u001B[39m, \u001B[38;5;241m4\u001B[39m, \u001B[38;5;241m1\u001B[39m)\n",
      "\u001B[1;31mTypeError\u001B[0m: cannot unpack non-iterable NoneType object"
     ]
    }
   ],
   "source": [
    "random_pair = random.choice(random_combinations)\n",
    "idx1,idx2 = random_pair[0],random_pair[1]\n",
    "g1,g2,img1,img2,value,correlation = veifyContours(images[idx1],images[idx2])\n",
    "plt.figure(figsize=(20,10))\n",
    "plt.subplot(2, 4, 1)\n",
    "plt.imshow(img1)\n",
    "plt.subplot(2, 4, 2)\n",
    "plt.imshow(img2)\n",
    "plt.subplot(2, 4, 3)\n",
    "plt.imshow(images[idx1])\n",
    "plt.subplot(2, 4, 4)\n",
    "plt.imshow(images[idx2])\n",
    "plt.subplot(2, 4, 5)\n",
    "plt.imshow(g1)\n",
    "plt.subplot(2, 4, 6)\n",
    "plt.imshow(g2)\n",
    "print(value)\n",
    "print(correlation)"
   ],
   "metadata": {
    "collapsed": false
   }
  }
 ],
 "metadata": {
  "kernelspec": {
   "display_name": "Python 3",
   "language": "python",
   "name": "python3"
  },
  "language_info": {
   "codemirror_mode": {
    "name": "ipython",
    "version": 2
   },
   "file_extension": ".py",
   "mimetype": "text/x-python",
   "name": "python",
   "nbconvert_exporter": "python",
   "pygments_lexer": "ipython2",
   "version": "2.7.6"
  }
 },
 "nbformat": 4,
 "nbformat_minor": 0
}
