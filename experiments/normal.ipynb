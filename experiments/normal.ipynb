{
 "cells": [
  {
   "cell_type": "code",
   "execution_count": 1,
   "metadata": {
    "collapsed": true
   },
   "outputs": [
    {
     "ename": "ModuleNotFoundError",
     "evalue": "No module named 'data'",
     "output_type": "error",
     "traceback": [
      "\u001B[1;31m---------------------------------------------------------------------------\u001B[0m",
      "\u001B[1;31mModuleNotFoundError\u001B[0m                       Traceback (most recent call last)",
      "Cell \u001B[1;32mIn[1], line 2\u001B[0m\n\u001B[0;32m      1\u001B[0m \u001B[38;5;28;01mimport\u001B[39;00m \u001B[38;5;21;01mimageio\u001B[39;00m\n\u001B[1;32m----> 2\u001B[0m \u001B[38;5;28;01mfrom\u001B[39;00m \u001B[38;5;21;01mdata\u001B[39;00m\u001B[38;5;21;01m.\u001B[39;00m\u001B[38;5;21;01mrenderObj\u001B[39;00m \u001B[38;5;28;01mimport\u001B[39;00m renderNomral, loadAndScale\n\u001B[0;32m      3\u001B[0m \u001B[38;5;28;01mfrom\u001B[39;00m \u001B[38;5;21;01mexperiments\u001B[39;00m\u001B[38;5;21;01m.\u001B[39;00m\u001B[38;5;21;01medgeSlop\u001B[39;00m \u001B[38;5;28;01mimport\u001B[39;00m calculate_nearest_line_vectors\n\u001B[0;32m      4\u001B[0m \u001B[38;5;28;01mimport\u001B[39;00m \u001B[38;5;21;01mpyrender\u001B[39;00m\n",
      "\u001B[1;31mModuleNotFoundError\u001B[0m: No module named 'data'"
     ]
    }
   ],
   "source": [
    "import imageio\n",
    "from data.renderObj import renderNomral, loadAndScale\n",
    "from experiments.edgeSlop import calculate_nearest_line_vectors\n",
    "import pyrender\n",
    "import trimesh\n",
    "from pyrender.shader_program import ShaderProgramCache\n",
    "from PIL import Image\n",
    "import numpy as np\n",
    "import cv2\n",
    "r = pyrender.OffscreenRenderer(viewport_width=1024, viewport_height=1024)\n",
    "plyPath = './testData/cow.obj'\n",
    "r._renderer._program_cache = ShaderProgramCache(shader_dir=\"shaders\")\n",
    "\n",
    "normals,depth = renderNomral(r,loadAndScale(plyPath),r_angle=90)\n",
    "\n",
    "\n",
    "# 将Normal Map的RGB通道分别转换为float类型，并归一化到[-1, 1]\n",
    "\n"
   ]
  },
  {
   "cell_type": "code",
   "execution_count": 1,
   "outputs": [],
   "source": [
    "def getNormalMagnitude(normal_map):\n",
    "    normal_map = normal_map.astype(np.float32) / 255.0 * 2 - 1\n",
    "    # 对每个通道求梯度\n",
    "    gradient_x = np.gradient(normal_map[:,:,0])\n",
    "    gradient_y = np.gradient(normal_map[:,:,1])\n",
    "    gradient_z = np.gradient(normal_map[:,:,2])\n",
    "\n",
    "    # 找到变化率最大的地方（即梯度的模最大的地方）\n",
    "    magnitude = np.sqrt(gradient_x**2 + gradient_y**2 + gradient_z**2)\n",
    "    return magnitude\n"
   ],
   "metadata": {
    "collapsed": false
   }
  },
  {
   "cell_type": "code",
   "execution_count": null,
   "outputs": [],
   "source": [],
   "metadata": {
    "collapsed": false
   }
  }
 ],
 "metadata": {
  "kernelspec": {
   "display_name": "Python 3",
   "language": "python",
   "name": "python3"
  },
  "language_info": {
   "codemirror_mode": {
    "name": "ipython",
    "version": 2
   },
   "file_extension": ".py",
   "mimetype": "text/x-python",
   "name": "python",
   "nbconvert_exporter": "python",
   "pygments_lexer": "ipython2",
   "version": "2.7.6"
  }
 },
 "nbformat": 4,
 "nbformat_minor": 0
}
